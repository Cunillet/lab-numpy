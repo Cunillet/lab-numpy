{
 "cells": [
  {
   "cell_type": "markdown",
   "execution_count": null,
   "metadata": {},
   "outputs": [],
   "source": [
    "# Intrduction to NumPy\n",
    "\n",
    "\n",
    "#### 1. Import NumPy under the name np."
   ]
  },
  {
   "cell_type": "code",
   "execution_count": 29,
   "metadata": {},
   "outputs": [],
   "source": [
    "# your code here\n",
    "import numpy as np"
   ]
  },
  {
   "cell_type": "markdown",
   "execution_count": null,
   "metadata": {},
   "outputs": [],
   "source": [
    "#### 2. Print your NumPy version."
   ]
  },
  {
   "cell_type": "code",
   "execution_count": 30,
   "metadata": {},
   "outputs": [
    {
     "name": "stdout",
     "output_type": "stream",
     "text": "1.18.1\n"
    }
   ],
   "source": [
    "# your code here\n",
    "print(np.__version__)"
   ]
  },
  {
   "cell_type": "markdown",
   "execution_count": null,
   "metadata": {},
   "outputs": [],
   "source": [
    "#### 3. Generate a 2x3x5 3-dimensional array with random values. Assign the array to variable *a*.\n",
    "**Challenge**: there are at least three easy ways that use numpy to generate random arrays. How many ways can you find?"
   ]
  },
  {
   "cell_type": "code",
   "execution_count": 31,
   "metadata": {},
   "outputs": [
    {
     "name": "stdout",
     "output_type": "stream",
     "text": "[[[0.50547141 0.15081539 0.64134523 0.64854616 0.86914194]\n  [0.35599929 0.08485084 0.19943608 0.89548533 0.23775761]\n  [0.64766513 0.40921402 0.08329817 0.53771476 0.64618711]]\n\n [[0.46775958 0.57609588 0.77318474 0.57520526 0.90513959]\n  [0.32259115 0.4621113  0.95506809 0.69199662 0.79776373]\n  [0.64725908 0.7024411  0.3792674  0.6734806  0.91521407]]]\n"
    }
   ],
   "source": [
    "# Method 1\n",
    "a = np.random.random((2, 3, 5))\n",
    "print(a)"
   ]
  },
  {
   "cell_type": "code",
   "execution_count": 32,
   "metadata": {},
   "outputs": [
    {
     "name": "stdout",
     "output_type": "stream",
     "text": "[[[37 85 29 22 39]\n  [29 99 52 28 31]\n  [18 21 11 64  7]]\n\n [[48 95 23 92 11]\n  [ 1 53  2 32 64]\n  [14 28 82 48 62]]]\n"
    }
   ],
   "source": [
    "# Method 2\n",
    "a = np.random.randint(0, 100, (2, 3 , 5))\n",
    "print(a)"
   ]
  },
  {
   "cell_type": "code",
   "execution_count": 33,
   "metadata": {},
   "outputs": [
    {
     "name": "stdout",
     "output_type": "stream",
     "text": "[[[0.48025913 0.46086162 0.82274917 0.52970451 0.56220493]\n  [0.63062339 0.18709985 0.10900799 0.38441348 0.39069811]\n  [0.41710851 0.95563952 0.79077818 0.66064345 0.27870154]]\n\n [[0.31936584 0.32228218 0.8221651  0.57011071 0.09442437]\n  [0.59634598 0.56711924 0.14396883 0.56921505 0.19603013]\n  [0.29350865 0.33693746 0.90785686 0.65298034 0.37831729]]]\n"
    }
   ],
   "source": [
    "# Method 3\n",
    "a = np.random.rand(2, 3, 5)\n",
    "print(a)"
   ]
  },
  {
   "cell_type": "markdown",
   "execution_count": null,
   "metadata": {},
   "outputs": [],
   "source": [
    "#### 4. Print *a*.\n"
   ]
  },
  {
   "cell_type": "code",
   "execution_count": 34,
   "metadata": {},
   "outputs": [
    {
     "name": "stdout",
     "output_type": "stream",
     "text": "[[[0.48025913 0.46086162 0.82274917 0.52970451 0.56220493]\n  [0.63062339 0.18709985 0.10900799 0.38441348 0.39069811]\n  [0.41710851 0.95563952 0.79077818 0.66064345 0.27870154]]\n\n [[0.31936584 0.32228218 0.8221651  0.57011071 0.09442437]\n  [0.59634598 0.56711924 0.14396883 0.56921505 0.19603013]\n  [0.29350865 0.33693746 0.90785686 0.65298034 0.37831729]]]\n"
    }
   ],
   "source": [
    "# your code here\n",
    "print(a)"
   ]
  },
  {
   "cell_type": "markdown",
   "execution_count": null,
   "metadata": {},
   "outputs": [],
   "source": [
    "#### 5. Create a 5x2x3 3-dimensional array with all values equaling 1. Assign the array to variable *b*."
   ]
  },
  {
   "cell_type": "code",
   "execution_count": 35,
   "metadata": {},
   "outputs": [
    {
     "name": "stdout",
     "output_type": "stream",
     "text": "[[[1 1]\n  [1 1]\n  [1 1]]\n\n [[1 1]\n  [1 1]\n  [1 1]]\n\n [[1 1]\n  [1 1]\n  [1 1]]\n\n [[1 1]\n  [1 1]\n  [1 1]]\n\n [[1 1]\n  [1 1]\n  [1 1]]]\n"
    }
   ],
   "source": [
    "# your code here\n",
    "b = np.full((5, 3, 2), 1)\n",
    "print(b)"
   ]
  },
  {
   "cell_type": "markdown",
   "execution_count": null,
   "metadata": {},
   "outputs": [],
   "source": [
    "#### 6. Print *b*.\n"
   ]
  },
  {
   "cell_type": "code",
   "execution_count": 36,
   "metadata": {},
   "outputs": [
    {
     "name": "stdout",
     "output_type": "stream",
     "text": "[[[1 1]\n  [1 1]\n  [1 1]]\n\n [[1 1]\n  [1 1]\n  [1 1]]\n\n [[1 1]\n  [1 1]\n  [1 1]]\n\n [[1 1]\n  [1 1]\n  [1 1]]\n\n [[1 1]\n  [1 1]\n  [1 1]]]\n"
    }
   ],
   "source": [
    "# your code here\n",
    "print(b)"
   ]
  },
  {
   "cell_type": "markdown",
   "execution_count": null,
   "metadata": {},
   "outputs": [],
   "source": [
    "#### 7. Do *a* and *b* have the same size? How do you prove that in Python code?"
   ]
  },
  {
   "cell_type": "code",
   "execution_count": 37,
   "metadata": {},
   "outputs": [
    {
     "name": "stdout",
     "output_type": "stream",
     "text": "True\n"
    }
   ],
   "source": [
    "# your code here\n",
    "print(a.size == b.size)"
   ]
  },
  {
   "cell_type": "markdown",
   "execution_count": null,
   "metadata": {},
   "outputs": [],
   "source": [
    "#### 8. Are you able to add *a* and *b*? Why or why not?\n"
   ]
  },
  {
   "cell_type": "code",
   "execution_count": 38,
   "metadata": {},
   "outputs": [
    {
     "name": "stdout",
     "output_type": "stream",
     "text": "NO because they don't have the same shape\n"
    }
   ],
   "source": [
    "# your answer here\n",
    "print('NO because they don\\'t have the same shape')"
   ]
  },
  {
   "cell_type": "markdown",
   "execution_count": null,
   "metadata": {},
   "outputs": [],
   "source": [
    "#### 9. Transpose *b* so that it has the same structure of *a* (i.e. become a 2x3x5 array). Assign the transposed array to variable *c*."
   ]
  },
  {
   "cell_type": "code",
   "execution_count": 39,
   "metadata": {},
   "outputs": [
    {
     "name": "stdout",
     "output_type": "stream",
     "text": "[[[1 1 1 1 1]\n  [1 1 1 1 1]\n  [1 1 1 1 1]]\n\n [[1 1 1 1 1]\n  [1 1 1 1 1]\n  [1 1 1 1 1]]]\n"
    }
   ],
   "source": [
    "# your code here\n",
    "c = b.transpose()\n",
    "print(c)"
   ]
  },
  {
   "cell_type": "markdown",
   "execution_count": null,
   "metadata": {},
   "outputs": [],
   "source": [
    "#### 10. Try to add *a* and *c*. Now it should work. Assign the sum to variable *d*. But why does it work now?"
   ]
  },
  {
   "cell_type": "code",
   "execution_count": 40,
   "metadata": {},
   "outputs": [
    {
     "name": "stdout",
     "output_type": "stream",
     "text": "Now works because the system can find the same position in both arrays\n"
    }
   ],
   "source": [
    "# your code/answer here\n",
    "d = a + c\n",
    "print('Now works because the system can find the same position in both arrays')"
   ]
  },
  {
   "cell_type": "markdown",
   "execution_count": null,
   "metadata": {},
   "outputs": [],
   "source": [
    "#### 11. Print *a* and *d*. Notice the difference and relation of the two array in terms of the values? Explain."
   ]
  },
  {
   "cell_type": "code",
   "execution_count": 41,
   "metadata": {},
   "outputs": [
    {
     "name": "stdout",
     "output_type": "stream",
     "text": "[[[0.48025913 0.46086162 0.82274917 0.52970451 0.56220493]\n  [0.63062339 0.18709985 0.10900799 0.38441348 0.39069811]\n  [0.41710851 0.95563952 0.79077818 0.66064345 0.27870154]]\n\n [[0.31936584 0.32228218 0.8221651  0.57011071 0.09442437]\n  [0.59634598 0.56711924 0.14396883 0.56921505 0.19603013]\n  [0.29350865 0.33693746 0.90785686 0.65298034 0.37831729]]]\n[[[1.48025913 1.46086162 1.82274917 1.52970451 1.56220493]\n  [1.63062339 1.18709985 1.10900799 1.38441348 1.39069811]\n  [1.41710851 1.95563952 1.79077818 1.66064345 1.27870154]]\n\n [[1.31936584 1.32228218 1.8221651  1.57011071 1.09442437]\n  [1.59634598 1.56711924 1.14396883 1.56921505 1.19603013]\n  [1.29350865 1.33693746 1.90785686 1.65298034 1.37831729]]]\na has incremented each value by 1, the value in each cel in array c\n"
    }
   ],
   "source": [
    "# your code/answer here\n",
    "print(a)\n",
    "print(d)\n",
    "print('a has incremented each value by 1, the value in each cel in array c')"
   ]
  },
  {
   "cell_type": "markdown",
   "execution_count": null,
   "metadata": {},
   "outputs": [],
   "source": [
    "#### 12. Multiply *a* and *c*. Assign the result to *e*."
   ]
  },
  {
   "cell_type": "code",
   "execution_count": 42,
   "metadata": {},
   "outputs": [],
   "source": [
    "# your code here\n",
    "e = a * c"
   ]
  },
  {
   "cell_type": "markdown",
   "execution_count": null,
   "metadata": {},
   "outputs": [],
   "source": [
    "#### 13. Does *e* equal to *a*? Why or why not?\n"
   ]
  },
  {
   "cell_type": "code",
   "execution_count": 43,
   "metadata": {},
   "outputs": [
    {
     "name": "stdout",
     "output_type": "stream",
     "text": "[[[ True  True  True  True  True]\n  [ True  True  True  True  True]\n  [ True  True  True  True  True]]\n\n [[ True  True  True  True  True]\n  [ True  True  True  True  True]\n  [ True  True  True  True  True]]]\nbecause we multiplied values by 1\n"
    }
   ],
   "source": [
    "# your code/answer here\n",
    "print(e == a)\n",
    "print('because we multiplied values by 1')"
   ]
  },
  {
   "cell_type": "markdown",
   "execution_count": null,
   "metadata": {},
   "outputs": [],
   "source": [
    "#### 14. Identify the max, min, and mean values in *d*. Assign those values to variables *d_max*, *d_min* and *d_mean*."
   ]
  },
  {
   "cell_type": "code",
   "execution_count": 44,
   "metadata": {},
   "outputs": [],
   "source": [
    "# your code here\n",
    "d_max = d.max()\n",
    "d_min = d.min()\n",
    "d_mean = d.mean()"
   ]
  },
  {
   "cell_type": "markdown",
   "execution_count": null,
   "metadata": {},
   "outputs": [],
   "source": [
    "#### 15. Now we want to label the values in *d*. First create an empty array *f* with the same shape (i.e. 2x3x5) as *d* using `np.empty`.\n"
   ]
  },
  {
   "cell_type": "code",
   "execution_count": 45,
   "metadata": {},
   "outputs": [],
   "source": [
    "# your code here\n",
    "f = np.empty((2, 3, 5))"
   ]
  },
  {
   "cell_type": "markdown",
   "execution_count": null,
   "metadata": {},
   "outputs": [],
   "source": [
    "#### 16. Populate the values in *f*. \n",
    "\n",
    "For each value in *d*, if it's larger than *d_min* but smaller than *d_mean*, assign 25 to the corresponding value in *f*. If a value in *d* is larger than *d_mean* but smaller than *d_max*, assign 75 to the corresponding value in *f*. If a value equals to *d_mean*, assign 50 to the corresponding value in *f*. Assign 0 to the corresponding value(s) in *f* for *d_min* in *d*. Assign 100 to the corresponding value(s) in *f* for *d_max* in *d*. In the end, f should have only the following values: 0, 25, 50, 75, and 100.\n",
    "\n",
    "**Note**: you don't have to use Numpy in this question."
   ]
  },
  {
   "cell_type": "code",
   "execution_count": 46,
   "metadata": {},
   "outputs": [
    {
     "name": "stdout",
     "output_type": "stream",
     "text": "[[[1.48025913 1.46086162 1.82274917 1.52970451 1.56220493]\n  [1.63062339 1.18709985 1.10900799 1.38441348 1.39069811]\n  [1.41710851 1.95563952 1.79077818 1.66064345 1.27870154]]\n\n [[1.31936584 1.32228218 1.8221651  1.57011071 1.09442437]\n  [1.59634598 1.56711924 1.14396883 1.56921505 1.19603013]\n  [1.29350865 1.33693746 1.90785686 1.65298034 1.37831729]]]\n[[[ 25.  25.  75.  75.  75.]\n  [ 75.  25.  25.  25.  25.]\n  [ 25. 100.  75.  75.  25.]]\n\n [[ 25.  25.  75.  75.   0.]\n  [ 75.  75.  25.  75.  25.]\n  [ 25.  25.  75.  75.  25.]]]\n"
    },
    {
     "data": {
      "text/plain": "'for i in d:\\n    for j in i:\\n        for k in j:\\n            val = 100\\n            if k == d_min:\\n                val = 0\\n            elif k > d_min and k < d_mean:\\n                val = 25\\n            elif k == d_mean:\\n                val = 50\\n            elif k > d_mean and k < d_max:\\n                val = 75\\n            f.fill(val)\\n\\nprint(f)'"
     },
     "execution_count": 46,
     "metadata": {},
     "output_type": "execute_result"
    }
   ],
   "source": [
    "# your code here\n",
    "# OLD SCHOOL\n",
    "i = 0\n",
    "j = 0\n",
    "for row in d:\n",
    "    for col in row:\n",
    "        for k in range(len(col)):\n",
    "            val = 100\n",
    "            if d[i,j,k] == d_min:\n",
    "                val = 0\n",
    "            elif d[i,j,k] > d_min and d[i,j,k] < d_mean:\n",
    "                val = 25\n",
    "            elif d[i,j,k] == d_mean:\n",
    "                val = 50\n",
    "            elif d[i,j,k] > d_mean and d[i,j,k] < d_max:\n",
    "                val = 75\n",
    "            f[i,j,k] = val\n",
    "        j += 1\n",
    "    i += 1\n",
    "    j = 0\n",
    "print(d)\n",
    "print(f)\n",
    "\n",
    "# ANOTHER WAY\n",
    "\"\"\"for i in d:\n",
    "    for j in i:\n",
    "        for k in j:\n",
    "            val = 100\n",
    "            if k == d_min:\n",
    "                val = 0\n",
    "            elif k > d_min and k < d_mean:\n",
    "                val = 25\n",
    "            elif k == d_mean:\n",
    "                val = 50\n",
    "            elif k > d_mean and k < d_max:\n",
    "                val = 75\n",
    "            f.fill(val)\n",
    "\n",
    "print(f)\"\"\""
   ]
  },
  {
   "cell_type": "markdown",
   "execution_count": null,
   "metadata": {},
   "outputs": [],
   "source": [
    "#### 17. Print *d* and *f*. Do you have your expected *f*?\n",
    "For instance, if your *d* is:\n",
    "```python\n",
    "[[[1.85836099, 1.67064465, 1.62576044, 1.40243961, 1.88454931],\n",
    "[1.75354326, 1.69403643, 1.36729252, 1.61415071, 1.12104981],\n",
    "[1.72201435, 1.1862918 , 1.87078449, 1.7726778 , 1.88180042]],\n",
    "[[1.44747908, 1.31673383, 1.02000951, 1.52218947, 1.97066381],\n",
    "[1.79129243, 1.74983003, 1.96028037, 1.85166831, 1.65450881],\n",
    "[1.18068344, 1.9587381 , 1.00656599, 1.93402165, 1.73514584]]]\n",
    "```\n",
    "Your *f* should be:\n",
    "```python\n",
    "[[[ 75.,  75.,  75.,  25.,  75.],\n",
    "[ 75.,  75.,  25.,  25.,  25.],\n",
    "[ 75.,  25.,  75.,  75.,  75.]],\n",
    "[[ 25.,  25.,  25.,  25., 100.],\n",
    "[ 75.,  75.,  75.,  75.,  75.],\n",
    "[ 25.,  75.,   0.,  75.,  75.]]]\n",
    "```"
   ]
  },
  {
   "cell_type": "code",
   "execution_count": 47,
   "metadata": {},
   "outputs": [
    {
     "name": "stdout",
     "output_type": "stream",
     "text": "[[[1.48025913 1.46086162 1.82274917 1.52970451 1.56220493]\n  [1.63062339 1.18709985 1.10900799 1.38441348 1.39069811]\n  [1.41710851 1.95563952 1.79077818 1.66064345 1.27870154]]\n\n [[1.31936584 1.32228218 1.8221651  1.57011071 1.09442437]\n  [1.59634598 1.56711924 1.14396883 1.56921505 1.19603013]\n  [1.29350865 1.33693746 1.90785686 1.65298034 1.37831729]]]\n[[[ 25.  25.  75.  75.  75.]\n  [ 75.  25.  25.  25.  25.]\n  [ 25. 100.  75.  75.  25.]]\n\n [[ 25.  25.  75.  75.   0.]\n  [ 75.  75.  25.  75.  25.]\n  [ 25.  25.  75.  75.  25.]]]\nyes, i do have what i expected\n"
    }
   ],
   "source": [
    "# your code here\n",
    "\n",
    "print(d)\n",
    "print(f)\n",
    "print('yes, i do have what i expected')"
   ]
  },
  {
   "cell_type": "markdown",
   "execution_count": null,
   "metadata": {},
   "outputs": [],
   "source": [
    "#### 18. Bonus question: instead of using numbers (i.e. 0, 25, 50, 75, and 100), use string values  (\"A\", \"B\", \"C\", \"D\", and \"E\") to label the array elements. For the example above, the expected result is:\n",
    "\n",
    "```python\n",
    "[[[ 'D',  'D',  'D',  'B',  'D'],\n",
    "[ 'D',  'D',  'B',  'B',  'B'],\n",
    "[ 'D',  'B',  'D',  'D',  'D']],\n",
    "[[ 'B',  'B',  'B',  'B',  'E'],\n",
    "[ 'D',  'D',  'D',  'D',  'D'],\n",
    "[ 'B',  'D',   'A',  'D', 'D']]]\n",
    "```\n",
    "**Note**: you don't have to use Numpy in this question."
   ]
  },
  {
   "cell_type": "code",
   "execution_count": 48,
   "metadata": {},
   "outputs": [
    {
     "name": "stdout",
     "output_type": "stream",
     "text": "[[['D' 'D' 'B' 'B' 'B']\n  ['B' 'D' 'D' 'D' 'D']\n  ['D' 'A' 'B' 'B' 'D']]\n\n [['D' 'D' 'B' 'B' 'E']\n  ['B' 'B' 'D' 'B' 'D']\n  ['D' 'D' 'B' 'B' 'D']]]\n"
    }
   ],
   "source": [
    "# your code here\n",
    "\"\"\" NOT WORKING, can't convert int to string, but still interesting method\n",
    "f[f == 100] = 'A'\n",
    "f[f == 75] = 'B'\n",
    "f[f == 50] = 'C'\n",
    "f[f ==25] = 'D'\n",
    "f[f == 0] = 'E'\n",
    "print(f)\n",
    "\n",
    "f = np.where(f == 100,'A',f)\n",
    "f = np.where(f == 75,'B',f)\n",
    "f = np.where(f == 50,'C',f)\n",
    "f = np.where(f == 25,'D',f)\n",
    "f = np.where(f == 0,'E',f)\n",
    "print(f)\n",
    "\n",
    "\"\"\"\n",
    "\n",
    "g = np.empty((2, 3, 5), dtype=str)\n",
    "\"\"\"\n",
    "g = np.where(f == 100,'A',g)\n",
    "g = np.where(f == 75,'B',g)\n",
    "g = np.where(f == 50,'C',g)\n",
    "g = np.where(f == 25,'D',g)\n",
    "g = np.where(f == 0,'E',g)\n",
    "\"\"\"\n",
    "i = 0\n",
    "j = 0\n",
    "for row in d:\n",
    "    for col in row:\n",
    "        for k in range(len(col)):\n",
    "            val = 'A'\n",
    "            if d[i,j,k] == d_min:\n",
    "                val = 'E'\n",
    "            elif d[i,j,k] > d_min and d[i,j,k] < d_mean:\n",
    "                val = 'D'\n",
    "            elif d[i,j,k] == d_mean:\n",
    "                val = 'C'\n",
    "            elif d[i,j,k] > d_mean and d[i,j,k] < d_max:\n",
    "                val = 'B'\n",
    "            g[i,j,k] = val\n",
    "        j += 1\n",
    "    i += 1\n",
    "    j = 0\n",
    "print(g)"
   ]
  },
  {
   "cell_type": "code",
   "execution_count": null,
   "metadata": {},
   "outputs": [],
   "source": []
  }
 ],
 "metadata": {
  "kernelspec": {
   "display_name": "Python 3.7.6 64-bit",
   "language": "python",
   "name": "python37664bite61034f5ef0c466e91726dec7b83c0f7"
  },
  "language_info": {
   "codemirror_mode": {
    "name": "ipython",
    "version": 3
   },
   "file_extension": ".py",
   "mimetype": "text/x-python",
   "name": "python",
   "nbconvert_exporter": "python",
   "pygments_lexer": "ipython3",
   "version": "3.7.6-final"
  }
 },
 "nbformat": 4,
 "nbformat_minor": 2
}